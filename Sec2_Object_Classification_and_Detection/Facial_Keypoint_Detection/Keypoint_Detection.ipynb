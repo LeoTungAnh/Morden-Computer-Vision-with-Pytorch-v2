{
 "cells": [
  {
   "cell_type": "code",
   "execution_count": null,
   "id": "c8c313d1",
   "metadata": {
    "vscode": {
     "languageId": "plaintext"
    }
   },
   "outputs": [],
   "source": [
    "print(\"Hello world\")"
   ]
  }
 ],
 "metadata": {
  "language_info": {
   "name": "python"
  }
 },
 "nbformat": 4,
 "nbformat_minor": 5
}
